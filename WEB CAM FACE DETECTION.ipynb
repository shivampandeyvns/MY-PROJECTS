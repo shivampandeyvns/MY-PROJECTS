{
 "cells": [
  {
   "cell_type": "code",
   "execution_count": 1,
   "metadata": {},
   "outputs": [],
   "source": [
    "#WE IMPORT THE OPEN-CV LIBRARY \n",
    "import cv2\n",
    "\n",
    "#IMPORTING THE RANDOM MODULE FOR MAKING THE FACE DETECTION COLOURFUL\n",
    "from random import randrange\n",
    "\n",
    "#PROVIDING PRE-TRAINED HAAR CASCADE IMAGE CLASSIFIER\n",
    "trained_face_data=cv2.CascadeClassifier('haarcascade_frontalface_default.xml')\n",
    "\n",
    "#FOR CAPTURING THE VIDEO USING THE PRE-INSTALLED WEBCAM ON THE SYSTEM\n",
    "cam=cv2.VideoCapture(0)\n",
    "\n",
    "#HERE WE PERFORM A CHECK IF THE WEEBCAM IS WORKING PROPERLY\n",
    "if not cam.isOpened():\n",
    "    raise IOError(\"Cannot open webcam\")\n",
    "    \n",
    "#WE USE WHILE TRUE SO THAT THE CAM RUNS UNTIL WE COMMAND IT TO STOP    \n",
    "while True:\n",
    "    \n",
    "    #WE GET THE CAM READ-> THIS HAS TWO PARTS THE ACTUAL FRAME STORED IN FRAME AND A BOOL VALUE WHICH IS ALWAYS TRUE IN SUCCESSFUL_READ\n",
    "    successful_read, frame=cam.read()\n",
    "    \n",
    "    #WE CONVERT THE COLORED IMAGES TO BLACK AND WHITE TO MAKE THE DETECTION EASIER FOR HAARCASCADE\n",
    "    grayscaled_image=cv2.cvtColor(frame,cv2.COLOR_BGR2GRAY)\n",
    "    \n",
    "    #WE GET THE COORDINATES FOR THE PLACE WHERE THE FACE IS PRESENT\n",
    "    face_coordinates=trained_face_data.detectMultiScale(grayscaled_image)\n",
    "   \n",
    "    #WE GET X-COORDINATE, Y-COORDINATE OF THE TOP LEFT CORNER AND THE HEIGHT AND WIDTH OF THE REGION OF THE FACE\n",
    "    for(x,y,h,w) in face_coordinates:\n",
    "        \n",
    "        #WE PLOT A RECTANGLE AROUND THE FACE\n",
    "        cv2.rectangle(frame,(x,y),(x+w,y+h),(randrange(128,256),randrange(256),randrange(256)),2)\n",
    "        \n",
    "        #CODE IF U WANT TO USE AND ELLIPSE INSTEAD OF A RECTANGLE\n",
    "        #center = (x + w//2, y + h//2)\n",
    "        #frame = cv2.ellipse(frame, center, (w//2, h//2), 0, 0, 360, (255, 0, 255), 4)\n",
    "    \n",
    "    #THIS SHOWS THE WEBCAM READ WITH THE RECTANGLE SHAPE OVER THE DETECTED FACE\n",
    "    cv2.imshow('WEBCAM READ',frame)\n",
    "    \n",
    "    #THIS COMMAND KEEPS THE VIDEO FEED ON UNTIL WE COMMAND IT TO CLOSE AND 1 SIGNIFY AFTER 1ms THE FRAMES WILL CHANGE \n",
    "    key=cv2.waitKey(1)\n",
    "    \n",
    "    #WE USE Q KEY BOTH UPPER AND LOWERCASE TO BREAK OUT OF THE LOOP AND THEN RELEASE THE FEED\n",
    "    if key==81 or key==113:\n",
    "        break\n",
    "cam.release()"
   ]
  },
  {
   "cell_type": "code",
   "execution_count": null,
   "metadata": {},
   "outputs": [],
   "source": []
  }
 ],
 "metadata": {
  "kernelspec": {
   "display_name": "Python 3",
   "language": "python",
   "name": "python3"
  },
  "language_info": {
   "codemirror_mode": {
    "name": "ipython",
    "version": 3
   },
   "file_extension": ".py",
   "mimetype": "text/x-python",
   "name": "python",
   "nbconvert_exporter": "python",
   "pygments_lexer": "ipython3",
   "version": "3.8.3"
  }
 },
 "nbformat": 4,
 "nbformat_minor": 4
}
