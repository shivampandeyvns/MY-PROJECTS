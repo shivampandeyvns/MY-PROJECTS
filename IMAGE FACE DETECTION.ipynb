{
 "cells": [
  {
   "cell_type": "code",
   "execution_count": 4,
   "metadata": {},
   "outputs": [
    {
     "name": "stdout",
     "output_type": "stream",
     "text": [
      "Code completed\n"
     ]
    }
   ],
   "source": [
    "#IMPORTING OPENCV \n",
    "import cv2\n",
    "\n",
    "#PROVIDING THE PRE-TRAINED MODULE BY HAARCASCADE IMAGE CLASSIFIER\n",
    "trained_face_data= cv2.CascadeClassifier('haarcascade_frontalface_default.xml')\n",
    "\n",
    "#HERE WE READ THE IMAGE\n",
    "img=cv2.imread('6J5A1280.jpg')\n",
    "\n",
    "#CONVERTING THE COLOURED IMAGE TO GRAYSCALE, CAUSE HAARCASCADE USES BLACK AND WHITE IMAGES\n",
    "grayscaled_image=cv2.cvtColor(img,cv2.COLOR_BGR2GRAY)\n",
    "\n",
    "#THIS RETURNS THE LIST OF X,Y COORDINATES OF THE TOP LEFT CORNER OF THE FACE AND THE HEIGHT AND WIDTH OF THE FACE(X,Y,W,H)\n",
    "face_coordinates=trained_face_data.detectMultiScale(grayscaled_image)\n",
    "\n",
    "#THIS ITERATES FOR ALL THE LIST OF VALUES IN THE FACE_COORDINATES VALUE\n",
    "for (x,y,w,h) in face_coordinates:\n",
    "    \n",
    "    #WE PLOT THE RECTANGULAR SHAPE AROUND THE FACE\n",
    "    cv2.rectangle(img,(x,y),(x+w,y+h),(0,255,0),2)\n",
    "\n",
    "    #U CAN PRINT THE LIST TO SEE THE FACE COORDINATES VALUE\n",
    "    #print(face_coordinates)\n",
    "\n",
    "#FOR DISPLAYING THE IMAGE\n",
    "cv2.imshow('Face detector', img)\n",
    "\n",
    "#TELLS THE TERMINAL TO WAIT FOR OUR COMMAND BEFORE CLOSING IT\n",
    "cv2.waitKey()\n",
    "\n",
    "#END OF CODE\n",
    "print(\"Code completed\")"
   ]
  },
  {
   "cell_type": "code",
   "execution_count": null,
   "metadata": {},
   "outputs": [],
   "source": []
  }
 ],
 "metadata": {
  "kernelspec": {
   "display_name": "Python 3",
   "language": "python",
   "name": "python3"
  },
  "language_info": {
   "codemirror_mode": {
    "name": "ipython",
    "version": 3
   },
   "file_extension": ".py",
   "mimetype": "text/x-python",
   "name": "python",
   "nbconvert_exporter": "python",
   "pygments_lexer": "ipython3",
   "version": "3.8.3"
  }
 },
 "nbformat": 4,
 "nbformat_minor": 4
}
